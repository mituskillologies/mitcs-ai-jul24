{
 "cells": [
  {
   "cell_type": "code",
   "execution_count": 1,
   "id": "75a4a0ae-6477-49b6-94be-2179f43fdbb6",
   "metadata": {},
   "outputs": [],
   "source": [
    "import nltk"
   ]
  },
  {
   "cell_type": "code",
   "execution_count": 19,
   "id": "e9fd9b68-ab61-42bf-9ef9-a2f76acd246f",
   "metadata": {},
   "outputs": [],
   "source": [
    "sent = 'They told that their ages are 23, 25 and 29 respectively'"
   ]
  },
  {
   "cell_type": "code",
   "execution_count": 21,
   "id": "40d8631a-aaa7-438c-97fb-0a955c0669f6",
   "metadata": {},
   "outputs": [
    {
     "data": {
      "text/plain": [
       "['They',\n",
       " 'told',\n",
       " 'that',\n",
       " 'their',\n",
       " 'ages',\n",
       " 'are',\n",
       " '23,',\n",
       " '25',\n",
       " 'and',\n",
       " '29',\n",
       " 'respectively']"
      ]
     },
     "execution_count": 21,
     "metadata": {},
     "output_type": "execute_result"
    }
   ],
   "source": [
    "sent.split()"
   ]
  },
  {
   "cell_type": "code",
   "execution_count": 23,
   "id": "46878260-0019-4e07-bcfa-cd7a46dac3e4",
   "metadata": {},
   "outputs": [],
   "source": [
    "num = []\n",
    "words = sent.split()\n",
    "for word in words:\n",
    "    if word.isdigit():\n",
    "        num.append(int(word))"
   ]
  },
  {
   "cell_type": "code",
   "execution_count": 25,
   "id": "c745abbb-759b-4dbf-8134-27367dac27bd",
   "metadata": {},
   "outputs": [
    {
     "data": {
      "text/plain": [
       "[25, 29]"
      ]
     },
     "execution_count": 25,
     "metadata": {},
     "output_type": "execute_result"
    }
   ],
   "source": [
    "num"
   ]
  },
  {
   "cell_type": "markdown",
   "id": "865e6fbd-5bb3-4142-9771-26ced39e8f4a",
   "metadata": {},
   "source": [
    "# segmentation/ Sentence Tokenize"
   ]
  },
  {
   "cell_type": "code",
   "execution_count": 28,
   "id": "30bcf88b-df79-4f83-bc8a-baefc5e953eb",
   "metadata": {},
   "outputs": [],
   "source": [
    "sents = 'Hello guys! How are you? Welcome to MIT.'"
   ]
  },
  {
   "cell_type": "code",
   "execution_count": 30,
   "id": "e2932222-f4d4-4e37-abad-5369be7be1a1",
   "metadata": {},
   "outputs": [],
   "source": [
    "from nltk.tokenize import sent_tokenize"
   ]
  },
  {
   "cell_type": "code",
   "execution_count": 32,
   "id": "c2a8ed8c-831b-4376-bde5-f9c996813294",
   "metadata": {},
   "outputs": [
    {
     "data": {
      "text/plain": [
       "['Hello guys!', 'How are you?', 'Welcome to MIT.']"
      ]
     },
     "execution_count": 32,
     "metadata": {},
     "output_type": "execute_result"
    }
   ],
   "source": [
    "sent_tokenize(sents)"
   ]
  },
  {
   "cell_type": "code",
   "execution_count": 34,
   "id": "2072abf5-1019-4354-93c5-cc804e9d6277",
   "metadata": {},
   "outputs": [],
   "source": [
    "sents = '     ,     .     !   .'"
   ]
  },
  {
   "cell_type": "code",
   "execution_count": 36,
   "id": "bf4d2736-7924-415c-a7e3-3d6c3d68e5b5",
   "metadata": {},
   "outputs": [
    {
     "data": {
      "text/plain": [
       "['     ,     .', '!', '.']"
      ]
     },
     "execution_count": 36,
     "metadata": {},
     "output_type": "execute_result"
    }
   ],
   "source": [
    "sent_tokenize(sents)"
   ]
  },
  {
   "cell_type": "markdown",
   "id": "ac8d3686-a07a-4613-9e22-0ee1026c487d",
   "metadata": {},
   "source": [
    "# Word tokenization"
   ]
  },
  {
   "cell_type": "code",
   "execution_count": 39,
   "id": "78c0825e-f0f0-4da3-a9b7-070ac77c29b4",
   "metadata": {},
   "outputs": [],
   "source": [
    "sents = 'Hello guys! How are you? Welcome to MIT.'"
   ]
  },
  {
   "cell_type": "code",
   "execution_count": 41,
   "id": "7450ee52-7dd7-4482-9978-8fd0a26b09d8",
   "metadata": {},
   "outputs": [],
   "source": [
    "from nltk.tokenize import word_tokenize"
   ]
  },
  {
   "cell_type": "code",
   "execution_count": 43,
   "id": "329cae47-9160-44af-b7c2-7271f488826a",
   "metadata": {},
   "outputs": [
    {
     "data": {
      "text/plain": [
       "['Hello', 'guys', '!', 'How', 'are', 'you', '?', 'Welcome', 'to', 'MIT', '.']"
      ]
     },
     "execution_count": 43,
     "metadata": {},
     "output_type": "execute_result"
    }
   ],
   "source": [
    "word_tokenize(sents)"
   ]
  },
  {
   "cell_type": "code",
   "execution_count": 68,
   "id": "0910ace6-7d4e-4374-86bf-ad2b93d7faba",
   "metadata": {},
   "outputs": [],
   "source": [
    "sent = 'They told that their ages are 23, 25 and 29 respectively'"
   ]
  },
  {
   "cell_type": "code",
   "execution_count": 48,
   "id": "07a3d1b3-1c2b-4c7d-a9cc-862616d4e08a",
   "metadata": {},
   "outputs": [],
   "source": [
    "# 1 find the average of the ages\n",
    "# 2 count total number of words which starts with 't'/ 'T'\n",
    "# 3 count the total number of punctuation symbols"
   ]
  },
  {
   "cell_type": "code",
   "execution_count": 50,
   "id": "36bed4c6-2e22-4b64-bf4b-bfa4a12d9b22",
   "metadata": {},
   "outputs": [],
   "source": [
    "num = [int(word) for word in word_tokenize(sent) if word.isdigit()]"
   ]
  },
  {
   "cell_type": "code",
   "execution_count": 52,
   "id": "fac85172-0a67-4ca1-afcf-ee8edc45c053",
   "metadata": {},
   "outputs": [
    {
     "data": {
      "text/plain": [
       "[23, 25, 29]"
      ]
     },
     "execution_count": 52,
     "metadata": {},
     "output_type": "execute_result"
    }
   ],
   "source": [
    "num"
   ]
  },
  {
   "cell_type": "code",
   "execution_count": 54,
   "id": "34e52071-e61b-4046-8d54-79be902dcb6c",
   "metadata": {},
   "outputs": [
    {
     "data": {
      "text/plain": [
       "25.666666666666668"
      ]
     },
     "execution_count": 54,
     "metadata": {},
     "output_type": "execute_result"
    }
   ],
   "source": [
    "sum(num)/ len(num)"
   ]
  },
  {
   "cell_type": "code",
   "execution_count": 78,
   "id": "cba9b51b-8823-4a27-b1a6-85dc3d058424",
   "metadata": {},
   "outputs": [
    {
     "data": {
      "text/plain": [
       "4"
      ]
     },
     "execution_count": 78,
     "metadata": {},
     "output_type": "execute_result"
    }
   ],
   "source": [
    "sum([1 for word in word_tokenize(sent) if word.startswith('t') or word.startswith('T')])"
   ]
  },
  {
   "cell_type": "code",
   "execution_count": 88,
   "id": "6e881936-6a7d-4587-93e7-78eccdb1f1c7",
   "metadata": {},
   "outputs": [
    {
     "data": {
      "text/plain": [
       "1"
      ]
     },
     "execution_count": 88,
     "metadata": {},
     "output_type": "execute_result"
    }
   ],
   "source": [
    "sum([1 for word in word_tokenize(sent) if not word.isdigit() and not word.isalpha()])"
   ]
  },
  {
   "cell_type": "code",
   "execution_count": 104,
   "id": "c5d191e3-484d-49d2-9690-db07ecfd9bce",
   "metadata": {},
   "outputs": [
    {
     "data": {
      "text/plain": [
       "[',']"
      ]
     },
     "execution_count": 104,
     "metadata": {},
     "output_type": "execute_result"
    }
   ],
   "source": [
    "[word for word in word_tokenize(sent) if not word.isdigit() and not word.isalpha()]"
   ]
  },
  {
   "cell_type": "markdown",
   "id": "e1b713e7-ef6d-4fca-b671-4fdcdecdfc47",
   "metadata": {},
   "source": [
    "# Tab Tokenizer"
   ]
  },
  {
   "cell_type": "code",
   "execution_count": 115,
   "id": "aef631c1-e312-4420-970d-1d561f902963",
   "metadata": {},
   "outputs": [],
   "source": [
    "sents = 'Hello guys!\\tHow are you? Welcome to\\tMIT.'"
   ]
  },
  {
   "cell_type": "code",
   "execution_count": 119,
   "id": "a225cfcf-2744-4c9d-af75-49dc3388af96",
   "metadata": {},
   "outputs": [
    {
     "name": "stdout",
     "output_type": "stream",
     "text": [
      "Hello guys!\tHow are you? Welcome to\tMIT.\n"
     ]
    }
   ],
   "source": [
    "print(sents)"
   ]
  },
  {
   "cell_type": "code",
   "execution_count": 121,
   "id": "87eb455c-4d8e-4c9c-b06f-1a13850a204f",
   "metadata": {},
   "outputs": [],
   "source": [
    "from nltk.tokenize import TabTokenizer"
   ]
  },
  {
   "cell_type": "code",
   "execution_count": 123,
   "id": "a6e3177a-7374-44c6-ac85-24fc1793ce6c",
   "metadata": {},
   "outputs": [],
   "source": [
    "tk = TabTokenizer()"
   ]
  },
  {
   "cell_type": "code",
   "execution_count": 125,
   "id": "23e1fea8-581f-4b60-9cf3-bc9b3a4f7944",
   "metadata": {},
   "outputs": [
    {
     "data": {
      "text/plain": [
       "['Hello guys!', 'How are you? Welcome to', 'MIT.']"
      ]
     },
     "execution_count": 125,
     "metadata": {},
     "output_type": "execute_result"
    }
   ],
   "source": [
    "tk.tokenize(sents)"
   ]
  },
  {
   "cell_type": "code",
   "execution_count": 127,
   "id": "a4704009-0691-481c-978f-2ec4d5e222b8",
   "metadata": {},
   "outputs": [],
   "source": [
    "# https://mitu.co.in/dataset\n",
    "# student3.tsv"
   ]
  },
  {
   "cell_type": "code",
   "execution_count": 129,
   "id": "c8ff760f-85ed-4c2c-a072-6e83380dd036",
   "metadata": {},
   "outputs": [
    {
     "data": {
      "text/plain": [
       "['roll',\n",
       " 'name',\n",
       " 'class',\n",
       " 'marks',\n",
       " 'age\\n1',\n",
       " 'anil',\n",
       " 'TE',\n",
       " '56.77',\n",
       " '22\\n2',\n",
       " 'amit',\n",
       " 'TE',\n",
       " '59.77',\n",
       " '21\\n3',\n",
       " 'aniket',\n",
       " 'BE',\n",
       " '76.88',\n",
       " '19\\n4',\n",
       " 'ajinkya',\n",
       " 'TE',\n",
       " '69.66',\n",
       " '20\\n5',\n",
       " 'asha',\n",
       " 'TE',\n",
       " '63.28',\n",
       " '20\\n6',\n",
       " 'ayesha',\n",
       " 'BE',\n",
       " '49.55',\n",
       " '20\\n7',\n",
       " 'amar',\n",
       " 'BE',\n",
       " '65.34',\n",
       " '19\\n8',\n",
       " 'amita',\n",
       " 'BE',\n",
       " '68.33',\n",
       " '23\\n9',\n",
       " 'amol',\n",
       " 'TE',\n",
       " '56.75',\n",
       " '20\\n10',\n",
       " 'anmol',\n",
       " 'BE',\n",
       " '78.66',\n",
       " '21\\n']"
      ]
     },
     "execution_count": 129,
     "metadata": {},
     "output_type": "execute_result"
    }
   ],
   "source": [
    "f = open('student3.tsv')\n",
    "data = f.read()\n",
    "tk.tokenize(data)"
   ]
  },
  {
   "cell_type": "markdown",
   "id": "15fd548f-f847-404c-9109-eb35756c2ed1",
   "metadata": {},
   "source": [
    "# Multi word tokenizer"
   ]
  },
  {
   "cell_type": "code",
   "execution_count": 132,
   "id": "e4c2e54a-d58a-467f-bbc2-0db5ff9f8101",
   "metadata": {},
   "outputs": [],
   "source": [
    "sent = 'Raj Sharma is in Pune today. We welcomed Raj Sharma'"
   ]
  },
  {
   "cell_type": "code",
   "execution_count": 136,
   "id": "bf07f9e2-ecf4-4ca5-ab71-afc7fa7a28a3",
   "metadata": {},
   "outputs": [],
   "source": [
    "from nltk.tokenize import MWETokenizer\n",
    "mwet = MWETokenizer()"
   ]
  },
  {
   "cell_type": "code",
   "execution_count": 138,
   "id": "828d539c-00d8-4d19-8ee9-c7ac8bb33b66",
   "metadata": {},
   "outputs": [],
   "source": [
    "mwet.add_mwe(('Raj', 'Sharma'))"
   ]
  },
  {
   "cell_type": "code",
   "execution_count": 140,
   "id": "ce419148-7ca8-4633-9be9-bca1114b9226",
   "metadata": {},
   "outputs": [
    {
     "data": {
      "text/plain": [
       "['Raj_Sharma',\n",
       " 'is',\n",
       " 'in',\n",
       " 'Pune',\n",
       " 'today',\n",
       " '.',\n",
       " 'We',\n",
       " 'welcomed',\n",
       " 'Raj_Sharma']"
      ]
     },
     "execution_count": 140,
     "metadata": {},
     "output_type": "execute_result"
    }
   ],
   "source": [
    "mwet.tokenize(word_tokenize(sent))"
   ]
  },
  {
   "cell_type": "code",
   "execution_count": null,
   "id": "483f4806-867f-47e5-aab9-8b03d623ee48",
   "metadata": {},
   "outputs": [],
   "source": []
  }
 ],
 "metadata": {
  "kernelspec": {
   "display_name": "Python 3 (ipykernel)",
   "language": "python",
   "name": "python3"
  },
  "language_info": {
   "codemirror_mode": {
    "name": "ipython",
    "version": 3
   },
   "file_extension": ".py",
   "mimetype": "text/x-python",
   "name": "python",
   "nbconvert_exporter": "python",
   "pygments_lexer": "ipython3",
   "version": "3.11.9"
  }
 },
 "nbformat": 4,
 "nbformat_minor": 5
}
