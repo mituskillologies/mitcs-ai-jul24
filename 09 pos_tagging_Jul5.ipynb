{
 "cells": [
  {
   "cell_type": "code",
   "execution_count": 3,
   "id": "2654fcd4-1077-452b-b13c-0d17718aebfd",
   "metadata": {},
   "outputs": [],
   "source": [
    "from nltk import pos_tag\n",
    "from nltk.tokenize import word_tokenize"
   ]
  },
  {
   "cell_type": "code",
   "execution_count": 5,
   "id": "0197ead0-6689-4a3b-8203-3049659d761c",
   "metadata": {},
   "outputs": [],
   "source": [
    "text =  '''Aurangabad is the fifth-most populous urban area in Maharashtra after Mumbai,\n",
    "        Pune, Nagpur and Nashik with a population of 1,175,116. The city is known as a \n",
    "        major production center of cotton textile and artistic silk fabrics. \n",
    "        Several prominent educational institutions, including Dr. Babasaheb Ambedkar \n",
    "        Marathwada University, are located in the city. The city is also a popular tourism hub, \n",
    "        with tourist destinations like the Ajanta and Ellora caves lying on its outskirts, both of \n",
    "        which have been designated as UNESCO World Heritage Sites since 1983.''';"
   ]
  },
  {
   "cell_type": "code",
   "execution_count": 7,
   "id": "50b364e7-bdfe-46e7-a652-f04089754a79",
   "metadata": {},
   "outputs": [],
   "source": [
    "tags = pos_tag(word_tokenize(text))"
   ]
  },
  {
   "cell_type": "code",
   "execution_count": 23,
   "id": "73c5c7bb-82be-49d9-bca8-03a234fb7580",
   "metadata": {},
   "outputs": [],
   "source": [
    "tags;"
   ]
  },
  {
   "cell_type": "code",
   "execution_count": 15,
   "id": "be80fdbb-1b0f-44e7-81a7-71349cfbb391",
   "metadata": {},
   "outputs": [
    {
     "data": {
      "text/plain": [
       "['Aurangabad',\n",
       " 'Area',\n",
       " 'Maharashtra',\n",
       " 'Mumbai',\n",
       " 'Pune',\n",
       " 'Nagpur',\n",
       " 'Nashik',\n",
       " 'Population',\n",
       " 'City',\n",
       " 'Production',\n",
       " 'Center',\n",
       " 'Cotton',\n",
       " 'Textile',\n",
       " 'Silk',\n",
       " 'Fabrics',\n",
       " 'Institutions',\n",
       " 'Babasaheb',\n",
       " 'Ambedkar',\n",
       " 'Marathwada',\n",
       " 'University',\n",
       " 'City',\n",
       " 'City',\n",
       " 'Tourism',\n",
       " 'Hub',\n",
       " 'Destinations',\n",
       " 'Ajanta',\n",
       " 'Ellora',\n",
       " 'Caves',\n",
       " 'Outskirts',\n",
       " 'Unesco',\n",
       " 'World',\n",
       " 'Heritage']"
      ]
     },
     "execution_count": 15,
     "metadata": {},
     "output_type": "execute_result"
    }
   ],
   "source": [
    "[x[0].title() for x in tags if x[1].startswith('N') and x[0].isalpha()]"
   ]
  },
  {
   "cell_type": "code",
   "execution_count": null,
   "id": "ffdd63db-9550-4a38-aca3-cde2195ab49c",
   "metadata": {},
   "outputs": [],
   "source": []
  }
 ],
 "metadata": {
  "kernelspec": {
   "display_name": "Python 3 (ipykernel)",
   "language": "python",
   "name": "python3"
  },
  "language_info": {
   "codemirror_mode": {
    "name": "ipython",
    "version": 3
   },
   "file_extension": ".py",
   "mimetype": "text/x-python",
   "name": "python",
   "nbconvert_exporter": "python",
   "pygments_lexer": "ipython3",
   "version": "3.11.9"
  }
 },
 "nbformat": 4,
 "nbformat_minor": 5
}
